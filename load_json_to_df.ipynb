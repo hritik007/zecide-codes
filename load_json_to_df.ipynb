{
 "cells": [
  {
   "cell_type": "code",
   "execution_count": 1,
   "metadata": {},
   "outputs": [],
   "source": [
    "import re\n",
    "import pandas as pd\n",
    "import bs4\n",
    "import requests\n",
    "import spacy\n",
    "from spacy import displacy\n",
    "nlp = spacy.load('en_core_web_sm')\n",
    "\n",
    "from spacy.matcher import Matcher \n",
    "from spacy.tokens import Span \n",
    "\n",
    "import networkx as nx\n",
    "\n",
    "import matplotlib.pyplot as plt\n",
    "from tqdm import tqdm #shows a progress meter in a loop\n",
    "\n",
    "pd.set_option('display.max_colwidth', 200)\n",
    "%matplotlib inline"
   ]
  },
  {
   "cell_type": "code",
   "execution_count": 2,
   "metadata": {},
   "outputs": [
    {
     "output_type": "execute_result",
     "data": {
      "text/plain": "Empty DataFrame\nColumns: [heading, sub_heading, time, source, article, tags]\nIndex: []",
      "text/html": "<div>\n<style scoped>\n    .dataframe tbody tr th:only-of-type {\n        vertical-align: middle;\n    }\n\n    .dataframe tbody tr th {\n        vertical-align: top;\n    }\n\n    .dataframe thead th {\n        text-align: right;\n    }\n</style>\n<table border=\"1\" class=\"dataframe\">\n  <thead>\n    <tr style=\"text-align: right;\">\n      <th></th>\n      <th>heading</th>\n      <th>sub_heading</th>\n      <th>time</th>\n      <th>source</th>\n      <th>article</th>\n      <th>tags</th>\n    </tr>\n  </thead>\n  <tbody>\n  </tbody>\n</table>\n</div>"
     },
     "metadata": {},
     "execution_count": 2
    }
   ],
   "source": [
    "#create empty pandas frame\n",
    "columns = ['heading','sub_heading', 'time', 'source', 'article', 'tags']\n",
    "df = pd.DataFrame(columns=columns)\n",
    "df"
   ]
  },
  {
   "cell_type": "code",
   "execution_count": 3,
   "metadata": {},
   "outputs": [],
   "source": [
    "#to get rid of [] related problem and data cleaning while scrapping\n",
    "sentences = [] #not in use\n",
    "combined_sentences = '' #in use\n",
    "import json\n",
    "\n",
    "#loading file\n",
    "with open('ten_pages.json') as json_file:\n",
    "    data = json.load(json_file)\n",
    "\n",
    "    #going to each article one by one\n",
    "    for p in data:\n",
    "        #extracting json data\n",
    "        heading = p['heading'][0]\n",
    "        sub_heading = p['sub_heading'][0]\n",
    "        time = p['time'][0]\n",
    "        source = p['source'][0]\n",
    "        article = p['article'][0]\n",
    "        tags = p['tags']\n",
    "\n",
    "        #cleaning\n",
    "        time2 = time.replace(\"Last Updated : \",\"\").replace(\" IST    | Source: \",\"\")\n",
    "        article = article.replace('\"','')\n",
    "\n",
    "        #each article as a dictionary\n",
    "        temp_dict_row = {\n",
    "            \"heading\" : heading, \n",
    "\t        \"sub_heading\" : sub_heading, \n",
    "\t        \"time\" : time2, \n",
    "\t        \"source\" : source,\n",
    "            \"article\" : article,\n",
    "            \"tags\" : tags\n",
    "        }\n",
    "\n",
    "        #append dictionary as a row in the dataframe\n",
    "        df = df.append(temp_dict_row , ignore_index=True)\n",
    "\n",
    "        import re\n",
    "        article = article.replace(\", \",\". \")\n",
    "        combined_sentences = combined_sentences + article +\". \"\n",
    "        if len(article.split())>=3 and not(article == ''):\n",
    "            sentences = sentences + article.split(\". \")"
   ]
  },
  {
   "cell_type": "code",
   "execution_count": 4,
   "metadata": {},
   "outputs": [
    {
     "output_type": "execute_result",
     "data": {
      "text/plain": "                                                                                                   heading  \\\n0                       Economy requires Rs 4.5 lakh crore fiscal support at current juncture: FICCI to FM   \n1                                             ICICI Bank Q4: All eyes on what COVID-19 does to the economy   \n2                         COVID-19 forces government to rejig borrowing plan, hikes it to Rs 12 lakh crore   \n3                                        Bank credit up 6.74% to Rs 102.69 lakh crore; deposits rise 9.82%   \n4                                Does India need industries to restart at the cost of diluted labour laws?   \n..                                                                                                     ...   \n388                      After RBI's relief package 2.0, next round of measures could focus on bond market   \n389                                          Power Ministry brings new draft of Electricity Amendment Bill   \n390  Govt's relief packages 'peanuts'; should have been 9% of GDP: Senior Congress leader M Veerappa Moily   \n391                                     Domestic auto sales may drop up to 25% this fiscal: MG Motor India   \n392                                           FPIs pull out Rs 12,650 cr in April amid COVID-19 turbulence   \n\n                                                                                                                                                                                                 sub_heading  \\\n0    Seeking an \"immediate support\", Reddy said the problem being faced is largely that of liquidity, and immediate release of money stuck in refunds and other government payments to the tune of Rs 2.5...   \n1                                                                                              An uncertain business environment certainly presents risks going ahead not just for banks but all industries.   \n2                                                                                   The government has also increased the weekly borrowing target to Rs 30,000 crore from Rs 21,000 crore fixed on March 31.   \n3                     In the fiscal ended March 31, 2020, bank loans had decelerated to 6.14 percent, a near five-decade low, due to slower economic growth, lower demand and as banks remained risk averse.   \n4                                              Several state governments have decided to set aside provisions of several labour laws for the next two to three years in a bid to restart industrial activity   \n..                                                                                                                                                                                                       ...   \n388                                                                 We continue to expect that the RBI will announce more measures in coming weeks, with the next round largely focusing on the bond market.   \n389  The draft provides that the ECEA will have sole authority to adjudicate matters related to specific performance of contracts related to purchase or sale of power, between power generation companie...   \n390                                      Moily's attack on the government came a day after RBI Governor Shaktikanta Das announced a string of relief measures for the stressed banking and financial sector.   \n391                                                       With the health crisis likely to peak in April-June period, the expectation is that sales in the quarter will decline by as much as 40-50 percent.   \n392                                                 Between April 1 to 17, FPIs pulled out a net sum of Rs 3,808 crore from equities and Rs 8,842 crore from the debt segment, the depositories data showed.   \n\n                      time            source  \\\n0    May 11, 2020 06:38 PM               PTI   \n1    May 09, 2020 08:40 PM  Moneycontrol.com   \n2    May 08, 2020 08:13 PM  Moneycontrol.com   \n3    May 08, 2020 10:34 PM               PTI   \n4    May 09, 2020 10:43 AM  Moneycontrol.com   \n..                     ...               ...   \n388  Apr 19, 2020 09:42 AM  Moneycontrol.com   \n389  Apr 18, 2020 06:52 PM               PTI   \n390  Apr 18, 2020 04:50 PM               PTI   \n391  Apr 19, 2020 11:30 AM               PTI   \n392  Apr 19, 2020 10:44 AM               PTI   \n\n                                                                                                                                                                                                     article  \\\n0    Seeking immediate support for the Indian economy hit by COVID-19, industry body Ficci said an additional fiscal support of Rs 4.5 lakh crore is required at the current juncture besides a quick rel...   \n1    ICICI Bank’s March-quarter numbers offer us two quick takeaways. One, the COVID-19 uncertainty is developing as the next big risk factor for all banks. In the quarter ended March, ICICI Bank has m...   \n2    To tackle the economic fallout of the COVID-19 pandemic, the government has sharply increased its gross market borrowing programme. The Central government has raised the estimated gross market bor...   \n3    Bank credit and deposits grew by 6.74 percent and 9.82 percent to Rs 102.69 lakh crore and Rs 137.11 lakh crore in the fortnight ended April 24, latest data from the RBI showed. In the year-ago fo...   \n4    Shafiq Akhtar, a 34 year-old recently shifted from Mumbai to his native town in Uttar Pradesh to be closer to his family and save more money. While Akhtar was working as an air-conditioner technic...   \n..                                                                                                                                                                                                       ...   \n388  The Reserve Bank of India (RBI)'s relief measures round-two restates the 'whatever it takes' philosophy that policymakers have adopted in the current crisis to minimize the market risks, ease fina...   \n389  The Union power ministry has come out with fourth draft of the Electricity (Amendment) Bill since 2014, which seeks to set up an Electricity Contract Enforcement Authority (ECEA) having power of a...   \n390  Senior Congress leader M Veerappa Moily on Saturday said the government's economic relief was like peanuts when compared with the economic devastation in the country and asserted that it should ha...   \n391  Hit by the coronavirus pandemic, auto sales in India could drop by up to 25 percent in the ongoing fiscal from an already low base of the previous year, according to a top official of MG Motor Ind...   \n392  Foreign portfolio investors (FPIs) have withdrawn a net Rs 12,650 crore from the Indian capital markets in April so far amid the coronavirus crisis. Between April 1 to 17, FPIs pulled out a net su...   \n\n                                                                                               tags  \n0                                            #Business#coronavirus#Economy#FICCI#Nirmala Sitharaman  \n1                                                   #Business#Companies#earnings#Economy#ICICI Bank  \n2                                          #borrowings#coronavirus#coronavirus lockdown#Economy#RBI  \n3                                                           #Business#Economy#Reserve Bank of India  \n4                                                                              #Business#Economy#HR  \n..                                                                                              ...  \n388                                                               #Bonds#Economy#Expert Columns#RBI  \n389                        #Business#Economy#Electricity Amendment Bill#India#policy#Power Ministry  \n390  #Business#Congress#coronavirus#Economy#GDP#India#M Veerappa Moily#Politics#RBI#Shaktikanta Das  \n391                                                                      #MG Hector#MG Motors India  \n392                                                                                            #FPI  \n\n[393 rows x 6 columns]",
      "text/html": "<div>\n<style scoped>\n    .dataframe tbody tr th:only-of-type {\n        vertical-align: middle;\n    }\n\n    .dataframe tbody tr th {\n        vertical-align: top;\n    }\n\n    .dataframe thead th {\n        text-align: right;\n    }\n</style>\n<table border=\"1\" class=\"dataframe\">\n  <thead>\n    <tr style=\"text-align: right;\">\n      <th></th>\n      <th>heading</th>\n      <th>sub_heading</th>\n      <th>time</th>\n      <th>source</th>\n      <th>article</th>\n      <th>tags</th>\n    </tr>\n  </thead>\n  <tbody>\n    <tr>\n      <th>0</th>\n      <td>Economy requires Rs 4.5 lakh crore fiscal support at current juncture: FICCI to FM</td>\n      <td>Seeking an \"immediate support\", Reddy said the problem being faced is largely that of liquidity, and immediate release of money stuck in refunds and other government payments to the tune of Rs 2.5...</td>\n      <td>May 11, 2020 06:38 PM</td>\n      <td>PTI</td>\n      <td>Seeking immediate support for the Indian economy hit by COVID-19, industry body Ficci said an additional fiscal support of Rs 4.5 lakh crore is required at the current juncture besides a quick rel...</td>\n      <td>#Business#coronavirus#Economy#FICCI#Nirmala Sitharaman</td>\n    </tr>\n    <tr>\n      <th>1</th>\n      <td>ICICI Bank Q4: All eyes on what COVID-19 does to the economy</td>\n      <td>An uncertain business environment certainly presents risks going ahead not just for banks but all industries.</td>\n      <td>May 09, 2020 08:40 PM</td>\n      <td>Moneycontrol.com</td>\n      <td>ICICI Bank’s March-quarter numbers offer us two quick takeaways. One, the COVID-19 uncertainty is developing as the next big risk factor for all banks. In the quarter ended March, ICICI Bank has m...</td>\n      <td>#Business#Companies#earnings#Economy#ICICI Bank</td>\n    </tr>\n    <tr>\n      <th>2</th>\n      <td>COVID-19 forces government to rejig borrowing plan, hikes it to Rs 12 lakh crore</td>\n      <td>The government has also increased the weekly borrowing target to Rs 30,000 crore from Rs 21,000 crore fixed on March 31.</td>\n      <td>May 08, 2020 08:13 PM</td>\n      <td>Moneycontrol.com</td>\n      <td>To tackle the economic fallout of the COVID-19 pandemic, the government has sharply increased its gross market borrowing programme. The Central government has raised the estimated gross market bor...</td>\n      <td>#borrowings#coronavirus#coronavirus lockdown#Economy#RBI</td>\n    </tr>\n    <tr>\n      <th>3</th>\n      <td>Bank credit up 6.74% to Rs 102.69 lakh crore; deposits rise 9.82%</td>\n      <td>In the fiscal ended March 31, 2020, bank loans had decelerated to 6.14 percent, a near five-decade low, due to slower economic growth, lower demand and as banks remained risk averse.</td>\n      <td>May 08, 2020 10:34 PM</td>\n      <td>PTI</td>\n      <td>Bank credit and deposits grew by 6.74 percent and 9.82 percent to Rs 102.69 lakh crore and Rs 137.11 lakh crore in the fortnight ended April 24, latest data from the RBI showed. In the year-ago fo...</td>\n      <td>#Business#Economy#Reserve Bank of India</td>\n    </tr>\n    <tr>\n      <th>4</th>\n      <td>Does India need industries to restart at the cost of diluted labour laws?</td>\n      <td>Several state governments have decided to set aside provisions of several labour laws for the next two to three years in a bid to restart industrial activity</td>\n      <td>May 09, 2020 10:43 AM</td>\n      <td>Moneycontrol.com</td>\n      <td>Shafiq Akhtar, a 34 year-old recently shifted from Mumbai to his native town in Uttar Pradesh to be closer to his family and save more money. While Akhtar was working as an air-conditioner technic...</td>\n      <td>#Business#Economy#HR</td>\n    </tr>\n    <tr>\n      <th>...</th>\n      <td>...</td>\n      <td>...</td>\n      <td>...</td>\n      <td>...</td>\n      <td>...</td>\n      <td>...</td>\n    </tr>\n    <tr>\n      <th>388</th>\n      <td>After RBI's relief package 2.0, next round of measures could focus on bond market</td>\n      <td>We continue to expect that the RBI will announce more measures in coming weeks, with the next round largely focusing on the bond market.</td>\n      <td>Apr 19, 2020 09:42 AM</td>\n      <td>Moneycontrol.com</td>\n      <td>The Reserve Bank of India (RBI)'s relief measures round-two restates the 'whatever it takes' philosophy that policymakers have adopted in the current crisis to minimize the market risks, ease fina...</td>\n      <td>#Bonds#Economy#Expert Columns#RBI</td>\n    </tr>\n    <tr>\n      <th>389</th>\n      <td>Power Ministry brings new draft of Electricity Amendment Bill</td>\n      <td>The draft provides that the ECEA will have sole authority to adjudicate matters related to specific performance of contracts related to purchase or sale of power, between power generation companie...</td>\n      <td>Apr 18, 2020 06:52 PM</td>\n      <td>PTI</td>\n      <td>The Union power ministry has come out with fourth draft of the Electricity (Amendment) Bill since 2014, which seeks to set up an Electricity Contract Enforcement Authority (ECEA) having power of a...</td>\n      <td>#Business#Economy#Electricity Amendment Bill#India#policy#Power Ministry</td>\n    </tr>\n    <tr>\n      <th>390</th>\n      <td>Govt's relief packages 'peanuts'; should have been 9% of GDP: Senior Congress leader M Veerappa Moily</td>\n      <td>Moily's attack on the government came a day after RBI Governor Shaktikanta Das announced a string of relief measures for the stressed banking and financial sector.</td>\n      <td>Apr 18, 2020 04:50 PM</td>\n      <td>PTI</td>\n      <td>Senior Congress leader M Veerappa Moily on Saturday said the government's economic relief was like peanuts when compared with the economic devastation in the country and asserted that it should ha...</td>\n      <td>#Business#Congress#coronavirus#Economy#GDP#India#M Veerappa Moily#Politics#RBI#Shaktikanta Das</td>\n    </tr>\n    <tr>\n      <th>391</th>\n      <td>Domestic auto sales may drop up to 25% this fiscal: MG Motor India</td>\n      <td>With the health crisis likely to peak in April-June period, the expectation is that sales in the quarter will decline by as much as 40-50 percent.</td>\n      <td>Apr 19, 2020 11:30 AM</td>\n      <td>PTI</td>\n      <td>Hit by the coronavirus pandemic, auto sales in India could drop by up to 25 percent in the ongoing fiscal from an already low base of the previous year, according to a top official of MG Motor Ind...</td>\n      <td>#MG Hector#MG Motors India</td>\n    </tr>\n    <tr>\n      <th>392</th>\n      <td>FPIs pull out Rs 12,650 cr in April amid COVID-19 turbulence</td>\n      <td>Between April 1 to 17, FPIs pulled out a net sum of Rs 3,808 crore from equities and Rs 8,842 crore from the debt segment, the depositories data showed.</td>\n      <td>Apr 19, 2020 10:44 AM</td>\n      <td>PTI</td>\n      <td>Foreign portfolio investors (FPIs) have withdrawn a net Rs 12,650 crore from the Indian capital markets in April so far amid the coronavirus crisis. Between April 1 to 17, FPIs pulled out a net su...</td>\n      <td>#FPI</td>\n    </tr>\n  </tbody>\n</table>\n<p>393 rows × 6 columns</p>\n</div>"
     },
     "metadata": {},
     "execution_count": 4
    }
   ],
   "source": [
    "df"
   ]
  },
  {
   "cell_type": "code",
   "execution_count": null,
   "metadata": {},
   "outputs": [],
   "source": []
  }
 ],
 "metadata": {
  "language_info": {
   "codemirror_mode": {
    "name": "ipython",
    "version": 3
   },
   "file_extension": ".py",
   "mimetype": "text/x-python",
   "name": "python",
   "nbconvert_exporter": "python",
   "pygments_lexer": "ipython3",
   "version": "3.7.6-final"
  },
  "orig_nbformat": 2,
  "kernelspec": {
   "name": "python3",
   "display_name": "Python 3"
  }
 },
 "nbformat": 4,
 "nbformat_minor": 2
}